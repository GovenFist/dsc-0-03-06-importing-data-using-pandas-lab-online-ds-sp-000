{
 "cells": [
  {
   "cell_type": "markdown",
   "metadata": {},
   "source": [
    "# Importing Data Using Pandas - Lab"
   ]
  },
  {
   "cell_type": "markdown",
   "metadata": {},
   "source": [
    "## Introduction\n",
    "\n",
    "In this lab, you'll get some practice with loading files with summary or metadata, and if you find that easy, the optional \"level up\" (content covers loading data from a currupted csv file!"
   ]
  },
  {
   "cell_type": "markdown",
   "metadata": {},
   "source": [
    "## Objectives\n",
    "You will be able to:\n",
    "* Import data from csv files and Excel files\n",
    "* Understand and explain key arguments for imports\n",
    "* Save information to csv and Excel files\n",
    "* Access data within a Pandas DataFrame (print() and .head())"
   ]
  },
  {
   "cell_type": "markdown",
   "metadata": {},
   "source": [
    "#  Loading Files with Summary or Meta Data\n",
    "\n",
    "Load either of the files Zipcode_Demos.csv or Zipcode_Demos.xlsx. What's going on with this dataset? Clean it up into a useable format and describe the nuances of how the data is currently formatted.\n",
    "\n",
    "All data files are stored in a folder titled 'Data'."
   ]
  },
  {
   "cell_type": "code",
   "execution_count": 23,
   "metadata": {},
   "outputs": [
    {
     "name": "stdout",
     "output_type": "stream",
     "text": [
      "   1          Unnamed: 1        0\n",
      "0  2   JURISDICTION NAME  10005.8\n",
      "1  3  COUNT PARTICIPANTS      9.4\n",
      "2  4        COUNT FEMALE      4.8\n",
      "3  5      PERCENT FEMALE    0.404\n"
     ]
    }
   ],
   "source": [
    "#Your code here\n",
    "import pandas as pd\n",
    "df = pd.read_csv('Data/Zipcode_Demos.csv', skiprows=1, usecols=[0,1,2])\n",
    "print(df.head(4))"
   ]
  },
  {
   "cell_type": "markdown",
   "metadata": {},
   "source": [
    "## Level Up (Optional)\n",
    "\n",
    "### Loading Corrupt CSV files\n",
    "\n",
    "Occassionally, you encountered some really ill formatted data. One example of this can be data that has strings containing commas in a csv file. Under the standard protocol, when this occurs, one is suppossed to use quotes to differentiate between the commas denoting fields and commas within those fields themselves. For example, we could have a table like this:  \n",
    "\n",
    "ReviewerID,Rating,N_reviews,Review,VenueID\n",
    "123456,4,137,This restuarant was pretty good, we had a great time.,98765\n",
    "\n",
    "Which should be saved like this if it were a csv (to avoid confusion with the commas in the Review text):\n",
    "\"ReviewerID\",\"Rating\",\"N_reviews\",\"Review\",\"VenueID\"\n",
    "\"123456\",\"4\",\"137\",\"This restuarant was pretty good, we had a great time.\",\"98765\""
   ]
  },
  {
   "cell_type": "markdown",
   "metadata": {},
   "source": [
    "Attempt to import the corrupt file, or at least a small preview of it. It is appropriately titled Yelp_Reviews_corrupt.csv. Investigate some of the intricacies of skipping rows to then pass over this error and comment on what you think is going on."
   ]
  },
  {
   "cell_type": "code",
   "execution_count": 3,
   "metadata": {},
   "outputs": [
    {
     "name": "stdout",
     "output_type": "stream",
     "text": [
      "    Unnamed: 0             business_id  cool        date  funny  \\\n",
      "18         179  YPa8t1631tlRQms0p331ZQ     0  2016-04-10      0   \n",
      "19         180  eZCE1u_3ORlX8dHSVTjl9w     0  2016-03-10      1   \n",
      "20         182  ruWTngdiC68O9la27hvvHw     0  2016-02-24      0   \n",
      "21         183  7KkgMcbVaetryW1wwpzvvA     0  2016-02-29      0   \n",
      "\n",
      "                 review_id  stars  \\\n",
      "18  vCwlUF30mV7Eg5MCS3N39Q      4   \n",
      "19  GuD3Og1PmJCqXAiWQe1xew      4   \n",
      "20  Tifm4ETlt4FXiuGwhq__lg      4   \n",
      "21  htV6dNmUqaXwCIRt7vfO5A      4   \n",
      "\n",
      "                                                 text  useful  \\\n",
      "18  What a nice and friendly person that answered ...       1   \n",
      "19  I have been here 3 1/2 years.   The staff is a...       4   \n",
      "20  This place is not just a restaurant has a grea...       1   \n",
      "21  It great fast food and get large portions. It ...       0   \n",
      "\n",
      "                   user_id  \n",
      "18  wMttR-7frrO-YzDsIiA4GQ  \n",
      "19  wMttR-7frrO-YzDsIiA4GQ  \n",
      "20  dQzQ4bN0Rnb8M-0LqTl3-g  \n",
      "21  dQzQ4bN0Rnb8M-0LqTl3-g  \n"
     ]
    }
   ],
   "source": [
    "#Hint: here's a useful programming pattern to use.\n",
    "import pandas as pd\n",
    "import os\n",
    "\n",
    "try:\n",
    "    #do something\n",
    "    df = pd.read_csv('Data/Yelp_Reviews_Corrupt.csv', skip_blank_lines=True, nrows=22, skiprows=range(19,42))\n",
    "    print(df.tail(4))\n",
    "except Exception as e:\n",
    "    #handle your exception \n",
    "    print('Attempt {0}'.format(e))"
   ]
  },
  {
   "cell_type": "code",
   "execution_count": null,
   "metadata": {
    "collapsed": true
   },
   "outputs": [],
   "source": [
    "#Your code here"
   ]
  }
 ],
 "metadata": {
  "kernelspec": {
   "display_name": "Python 3",
   "language": "python",
   "name": "python3"
  },
  "language_info": {
   "codemirror_mode": {
    "name": "ipython",
    "version": 3
   },
   "file_extension": ".py",
   "mimetype": "text/x-python",
   "name": "python",
   "nbconvert_exporter": "python",
   "pygments_lexer": "ipython3",
   "version": "3.6.6"
  }
 },
 "nbformat": 4,
 "nbformat_minor": 2
}
